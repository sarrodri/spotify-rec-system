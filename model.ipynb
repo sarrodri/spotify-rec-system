{
 "cells": [
  {
   "cell_type": "code",
   "execution_count": 5,
   "metadata": {},
   "outputs": [],
   "source": [
    "import spotipy\n",
    "import base64\n",
    "import requests\n",
    "from spotipy.oauth2 import SpotifyClientCredentials\n",
    "from creds import CLIENT_ID, CLIENT_SECRET\n",
    "import pandas as pd\n",
    "import time"
   ]
  },
  {
   "cell_type": "code",
   "execution_count": 6,
   "metadata": {},
   "outputs": [],
   "source": [
    "# token\n",
    "auth_manager = SpotifyClientCredentials(CLIENT_ID, CLIENT_SECRET)\n",
    "sp = spotipy.Spotify(auth_manager=auth_manager)\n"
   ]
  },
  {
   "cell_type": "code",
   "execution_count": 7,
   "metadata": {},
   "outputs": [],
   "source": [
    "#Get spotify playlist ids and names\n",
    "\n",
    "def get_all_playlists(user_id): #api call\n",
    "    playlist_ids = []\n",
    "    playlist_names = []\n",
    "    playlists = sp.user_playlists(user_id) #api call\n",
    "    #my_playlists = sp.user_playlist('z8ctw1rqti6nguka70zk1ishf')\n",
    "\n",
    "    while playlists: # example provided in spotipy documentation\n",
    "        for i, playlist in enumerate(playlists['items']):\n",
    "            #print(\"%4d %s %s\" % (i + 1 + playlists['offset'], playlist['uri'],  playlist['name']))\n",
    "            playlist_ids.append(playlist['uri'][-22:])\n",
    "            playlist_names.append(playlist['name'])\n",
    "        if playlists['next']:\n",
    "            playlists = sp.next(playlists)\n",
    "            \n",
    "        else:\n",
    "            playlists = None\n",
    "    return playlist_ids, playlist_names\n"
   ]
  },
  {
   "cell_type": "code",
   "execution_count": 8,
   "metadata": {},
   "outputs": [
    {
     "name": "stdout",
     "output_type": "stream",
     "text": [
      "Error fetching http status: 400, code:-1 - Unsupported URL / URI., reason: None\n"
     ]
    },
    {
     "ename": "TypeError",
     "evalue": "list indices must be integers or slices, not str",
     "output_type": "error",
     "traceback": [
      "\u001b[1;31m---------------------------------------------------------------------------\u001b[0m",
      "\u001b[1;31mTypeError\u001b[0m                                 Traceback (most recent call last)",
      "Cell \u001b[1;32mIn[8], line 77\u001b[0m\n\u001b[0;32m     74\u001b[0m all_tracks \u001b[38;5;241m=\u001b[39m []       \n\u001b[0;32m     75\u001b[0m \u001b[38;5;28;01mfor\u001b[39;00m playlist_id, playlist_name \u001b[38;5;129;01min\u001b[39;00m \u001b[38;5;28mzip\u001b[39m(playlist_names, playlist_ids): \u001b[38;5;66;03m#Test with first 10 IDs\u001b[39;00m\n\u001b[0;32m     76\u001b[0m     \u001b[38;5;66;03m#print(f\"Getting tracks from playlist ID: {id}\")\u001b[39;00m\n\u001b[1;32m---> 77\u001b[0m     tracks \u001b[38;5;241m=\u001b[39m \u001b[43mget_tracks\u001b[49m\u001b[43m(\u001b[49m\u001b[43mplaylist_id\u001b[49m\u001b[43m,\u001b[49m\u001b[43mplaylist_names\u001b[49m\u001b[43m)\u001b[49m \u001b[38;5;66;03m#Two API calls per function call\u001b[39;00m\n\u001b[0;32m     78\u001b[0m     all_tracks\u001b[38;5;241m.\u001b[39mextend(tracks)\n\u001b[0;32m     79\u001b[0m     time\u001b[38;5;241m.\u001b[39msleep(\u001b[38;5;241m5\u001b[39m) \u001b[38;5;66;03m# to keep the spotify api server from giving me a 429 error when they finally take me back\u001b[39;00m\n",
      "Cell \u001b[1;32mIn[8], line 32\u001b[0m, in \u001b[0;36mget_tracks\u001b[1;34m(playlist_id, playlist_name)\u001b[0m\n\u001b[0;32m     29\u001b[0m music_data \u001b[38;5;241m=\u001b[39m []\n\u001b[0;32m     30\u001b[0m tracks \u001b[38;5;241m=\u001b[39m  get_playlist_tracks(playlist_id)  \n\u001b[1;32m---> 32\u001b[0m \u001b[38;5;28;01mfor\u001b[39;00m track_info \u001b[38;5;129;01min\u001b[39;00m \u001b[43mtracks\u001b[49m\u001b[43m[\u001b[49m\u001b[38;5;124;43m'\u001b[39;49m\u001b[38;5;124;43mitems\u001b[39;49m\u001b[38;5;124;43m'\u001b[39;49m\u001b[43m]\u001b[49m:\n\u001b[0;32m     33\u001b[0m     track \u001b[38;5;241m=\u001b[39m track_info[\u001b[38;5;124m'\u001b[39m\u001b[38;5;124mtrack\u001b[39m\u001b[38;5;124m'\u001b[39m]\n\u001b[0;32m     35\u001b[0m     \u001b[38;5;28;01mif\u001b[39;00m track:\n",
      "\u001b[1;31mTypeError\u001b[0m: list indices must be integers or slices, not str"
     ]
    }
   ],
   "source": [
    "# Get track info from playlists into a dataframe - separated out API calls\n",
    "\n",
    "def get_playlist_tracks(playlist_id):#api call\n",
    "    try: \n",
    "        tracks = sp.playlist_tracks(playlist_id, limit = 100, fields='items(track(id, name, artists, album(id, name)))')\n",
    "        return tracks['items']\n",
    "    \n",
    "    except Exception as e:\n",
    "        print(f\"Error fetching {e}\")\n",
    "        return []\n",
    "\n",
    "def get_track_details(track_id):\n",
    "    try:\n",
    "        track_info = sp.track(track_id)\n",
    "        return track_info['popularity']\n",
    "    except Exception as e:\n",
    "        print(f\"Error fetching track {e}\")\n",
    "        return None\n",
    "\n",
    "def get_audio_features(track_id): #api call\n",
    "    try:\n",
    "        audio_stuffs = sp.audio_features(track_id)[0] if track_id else None \n",
    "        return audio_stuffs\n",
    "    except Exception as e:\n",
    "        print(f\"Error fetching {e}\")\n",
    "        return None\n",
    "    \n",
    "def get_tracks(playlist_id, playlist_name):\n",
    "    music_data = []\n",
    "    tracks =  get_playlist_tracks(playlist_id)  \n",
    "\n",
    "    for track_info in tracks['items']:\n",
    "        track = track_info['track']\n",
    "\n",
    "        if track:\n",
    "            track = track_info['track']\n",
    "            track_name = track['name']\n",
    "            artists = ', '.join([artist['name'] for artist in track['artists']])\n",
    "            album_name = track['album']['name']\n",
    "            album_id = track['album']['id']\n",
    "            track_id = track['id']\n",
    "        \n",
    "        audio_stuffs = get_audio_features(track_id) #api call\n",
    "        popularity = get_track_details(track_id) #api call\n",
    "\n",
    "\n",
    "        track_data = {\n",
    "            'Playlist Name': playlist_name,\n",
    "            'Track': track,\n",
    "            'Track Name': track_name,\n",
    "            'Artist': artists,\n",
    "            'Album Name': album_name,\n",
    "            'Playlist ID': playlist_id,\n",
    "            'Album ID': album_id,\n",
    "            'Track ID': track_id,\n",
    "            'Popularity': popularity,\n",
    "            'Acousticness': audio_stuffs['acousticness'] if audio_stuffs else None,\n",
    "            'Danceability': audio_stuffs['danceability'] if audio_stuffs else None,\n",
    "            'Energy': audio_stuffs['energy'] if audio_stuffs else None,\n",
    "            'Instrumentalness': audio_stuffs['instrumentalness'] if audio_stuffs else None,\n",
    "            'Loudness': audio_stuffs['loudness'] if audio_stuffs else None,\n",
    "            'Speechiness': audio_stuffs['speechiness'] if audio_stuffs else None,\n",
    "            'Tempo': audio_stuffs['tempo'] if audio_stuffs else None,\n",
    "            'Mode': audio_stuffs['mode'] if audio_stuffs else None,\n",
    "            'Valence': audio_stuffs['valence'] if audio_stuffs else None\n",
    "        }\n",
    "\n",
    "        music_data.append(track_data)\n",
    "    return music_data\n",
    "\n",
    "user_id = 'spotify'\n",
    "playlist_ids, playlist_names = get_all_playlists(user_id)\n",
    "\n",
    "all_tracks = []       \n",
    "for playlist_id, playlist_name in zip(playlist_names, playlist_ids): #Test with first 10 IDs\n",
    "    #print(f\"Getting tracks from playlist ID: {id}\")\n",
    "    tracks = get_tracks(playlist_id,playlist_names) #Two API calls per function call\n",
    "    all_tracks.extend(tracks)\n",
    "    time.sleep(5) # to keep the spotify api server from giving me a 429 error when they finally take me back\n",
    "\n",
    "#Test with one playlist id\n",
    "# playlist_id = playlist_ids[0]\n",
    "# track = get_tracks(playlist_id)\n",
    "# all_tracks.extend(track)\n",
    "\n",
    "spotify_track_df = pd.DataFrame(all_tracks, columns=['Playlist Name','Track Name', 'Artist', 'Album Name', 'Playlist ID','Album ID', 'Track ID',\n",
    "                                                     'Acousticness', 'Danceability','Energy', 'Instrumentalness', \n",
    "                                                     'Loudness', 'Speechiness', 'Tempo', 'Mode', 'Valence'])\n",
    "\n",
    "spotify_track_df.head()\n"
   ]
  }
 ],
 "metadata": {
  "kernelspec": {
   "display_name": "Python 3",
   "language": "python",
   "name": "python3"
  },
  "language_info": {
   "codemirror_mode": {
    "name": "ipython",
    "version": 3
   },
   "file_extension": ".py",
   "mimetype": "text/x-python",
   "name": "python",
   "nbconvert_exporter": "python",
   "pygments_lexer": "ipython3",
   "version": "3.12.2"
  }
 },
 "nbformat": 4,
 "nbformat_minor": 2
}
