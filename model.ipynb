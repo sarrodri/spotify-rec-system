{
 "cells": [
  {
   "cell_type": "code",
   "execution_count": 1,
   "metadata": {},
   "outputs": [
    {
     "name": "stdout",
     "output_type": "stream",
     "text": [
      "Access token obtained successfully.\n"
     ]
    }
   ],
   "source": [
    "import spotipy\n",
    "import base64\n",
    "import requests\n",
    "from creds import CLIENT_ID, CLIENT_SECRET\n",
    "\n",
    "# \"keep it secret, keep it safe.\" - Gandalf the Grey, Senior Developer\n",
    "credentials = f\"{CLIENT_ID}:{CLIENT_SECRET}\"\n",
    "credentials_base64 = base64.b64encode(credentials.encode())\n",
    "\n",
    "#Make a request for the access token\n",
    "token_url = 'https://accounts.spotify.com/api/token'\n",
    "headers = {\n",
    "    'Authorization': f'Basic {credentials_base64.decode()}'\n",
    "}\n",
    "data = {\n",
    "    'grant_type': 'client_credentials'\n",
    "}\n",
    "response = requests.post(token_url, data=data, headers=headers)\n",
    "\n",
    "if response.status_code == 200:\n",
    "    access_token = response.json()['access_token']\n",
    "    print(\"Access token obtained successfully.\")\n",
    "else:\n",
    "    print(\"Access token not obtained.\")\n",
    "    exit()"
   ]
  },
  {
   "cell_type": "code",
   "execution_count": null,
   "metadata": {},
   "outputs": [],
   "source": []
  }
 ],
 "metadata": {
  "kernelspec": {
   "display_name": "Python 3",
   "language": "python",
   "name": "python3"
  },
  "language_info": {
   "codemirror_mode": {
    "name": "ipython",
    "version": 3
   },
   "file_extension": ".py",
   "mimetype": "text/x-python",
   "name": "python",
   "nbconvert_exporter": "python",
   "pygments_lexer": "ipython3",
   "version": "3.12.2"
  }
 },
 "nbformat": 4,
 "nbformat_minor": 2
}
